{
 "cells": [
  {
   "cell_type": "markdown",
   "metadata": {},
   "source": [
    "### Overview\n",
    "\n",
    "- Demonstration of various VTK datasets\n",
    "- Uses TVTK: which is much easier than raw VTK\n",
    "- Also uses mlab for visualization\n"
   ]
  },
  {
   "cell_type": "code",
   "execution_count": null,
   "metadata": {},
   "outputs": [],
   "source": [
    "%gui qt"
   ]
  },
  {
   "cell_type": "code",
   "execution_count": null,
   "metadata": {},
   "outputs": [],
   "source": [
    "from IPython.display import Image\n",
    "from tvtk.api import tvtk\n",
    "from mayavi import mlab\n",
    "import numpy as np\n",
    "from numpy import array"
   ]
  },
  {
   "cell_type": "code",
   "execution_count": null,
   "metadata": {},
   "outputs": [],
   "source": [
    "fig = mlab.figure(bgcolor=(1,1,1), fgcolor=(0,0,0))"
   ]
  },
  {
   "cell_type": "markdown",
   "metadata": {},
   "source": [
    "### Structured Points: 2D\n"
   ]
  },
  {
   "cell_type": "code",
   "execution_count": null,
   "metadata": {},
   "outputs": [],
   "source": [
    "from scipy import special\n",
    "# The scalar values.\n",
    "x = (np.arange(50.0) - 25)/2.0\n",
    "y = x.copy()\n",
    "r = np.sqrt(x[:,None]**2+y**2)\n",
    "#x, y = np.mgrid[-12.5:12.5:25j, -12.5:12.5:25j]\n",
    "#r = np.sqrt(x*x + y*y)\n",
    "z = 5.0*special.j0(r)  # Bessel function of order 0"
   ]
  },
  {
   "cell_type": "code",
   "execution_count": null,
   "metadata": {},
   "outputs": [],
   "source": []
  },
  {
   "cell_type": "code",
   "execution_count": null,
   "metadata": {},
   "outputs": [],
   "source": [
    "# --------------------------------------------------\n",
    "# Can't specify explicit points, they are implicit.\n",
    "# The volume specified using origin, spacing and dims.\n",
    "from tvtk.api import tvtk\n",
    "spoints = tvtk.StructuredPoints(origin=(-12.5,-12.5,0),\n",
    "                                spacing=(0.5,0.5,1),\n",
    "                                dimensions=(50,50,1))\n",
    "\n",
    "# Transpose the array data due to VTK's implicit\n",
    "# ordering. We flatten it so the number of components\n",
    "# is 1.\n",
    "spoints.point_data.scalars = z.T.flatten()\n",
    "spoints.point_data.scalars.name = 'scalar'"
   ]
  },
  {
   "cell_type": "markdown",
   "metadata": {},
   "source": [
    "### Visualizing it\n"
   ]
  },
  {
   "cell_type": "code",
   "execution_count": null,
   "metadata": {},
   "outputs": [],
   "source": [
    "# Add the dataset to the pipeline\n",
    "src = mlab.pipeline.add_dataset(spoints)\n",
    "\n",
    "warp = mlab.pipeline.warp_scalar(src)\n",
    "surf = mlab.pipeline.surface(warp)\n",
    "mlab.savefig('structured_points2d.png')\n",
    "Image('structured_points2d.png')"
   ]
  },
  {
   "cell_type": "markdown",
   "metadata": {},
   "source": [
    "### Structured Points: 3D\n"
   ]
  },
  {
   "cell_type": "code",
   "execution_count": null,
   "metadata": {},
   "outputs": [],
   "source": [
    "x, y, z = np.ogrid[-5:5:128j,-5:5:128j,\n",
    "                   -5:5:128j]\n",
    "x, y, z = [t.astype('f') for t in (x, y, z)]\n",
    "scalars = np.sin(x*y*z)/(x*y*z)\n",
    "\n",
    "# --------------------------------------------------\n",
    "spoints = tvtk.StructuredPoints(\n",
    "    origin=(-5.,-5,-5),\n",
    "    spacing=(10./127,10./127,10./127),\n",
    "    dimensions=(128,128,128)\n",
    ")\n",
    "# The copy makes the data contiguous and the transpose\n",
    "# makes it suitable for display via tvtk.\n",
    "s = scalars.transpose().copy()\n",
    "spoints.point_data.scalars = np.ravel(s)\n",
    "spoints.point_data.scalars.name = 'scalars'"
   ]
  },
  {
   "cell_type": "markdown",
   "metadata": {},
   "source": [
    "### Visualizing it\n"
   ]
  },
  {
   "cell_type": "code",
   "execution_count": null,
   "metadata": {},
   "outputs": [],
   "source": [
    "mlab.clf()\n",
    "# Add the dataset to the pipeline\n",
    "src = mlab.pipeline.add_dataset(spoints)\n",
    "\n",
    "cut = mlab.pipeline.scalar_cut_plane(src)\n",
    "contour = mlab.pipeline.iso_surface(src)\n",
    "\n",
    "mlab.savefig('structured_points3d.png')\n",
    "Image('structured_points3d.png')"
   ]
  },
  {
   "cell_type": "markdown",
   "metadata": {},
   "source": [
    "### Structured Grid\n"
   ]
  },
  {
   "cell_type": "code",
   "execution_count": null,
   "metadata": {},
   "outputs": [],
   "source": [
    "r, th, z = np.mgrid[1:10:25j, 0:2*np.pi:51j, 0:5:25j]\n",
    "x, y = np.cos(th)*r, np.sin(th)*r\n",
    "scalar = x*x + y*y + z*z"
   ]
  },
  {
   "cell_type": "code",
   "execution_count": null,
   "metadata": {},
   "outputs": [],
   "source": [
    "pts = np.empty(z.shape + (3,))\n",
    "pts[...,0] = x\n",
    "pts[...,1] = y\n",
    "pts[...,2] = z"
   ]
  },
  {
   "cell_type": "code",
   "execution_count": null,
   "metadata": {},
   "outputs": [],
   "source": [
    "pts = pts.transpose(2, 1, 0, 3).copy()\n",
    "pts.shape = pts.size//3, 3"
   ]
  },
  {
   "cell_type": "code",
   "execution_count": null,
   "metadata": {},
   "outputs": [],
   "source": [
    "sgrid = tvtk.StructuredGrid(dimensions=x.shape)\n",
    "sgrid.points = pts\n",
    "sgrid.point_data.scalars = np.ravel(scalar.T.copy())\n",
    "sgrid.point_data.scalars.name = 'scalars'"
   ]
  },
  {
   "cell_type": "markdown",
   "metadata": {},
   "source": [
    "### Visualizing it\n"
   ]
  },
  {
   "cell_type": "code",
   "execution_count": null,
   "metadata": {},
   "outputs": [],
   "source": [
    "mlab.clf()\n",
    "# Add the dataset to the pipeline\n",
    "src = mlab.pipeline.add_dataset(sgrid)\n",
    "\n",
    "plane = mlab.pipeline.grid_plane(src)\n",
    "plane.grid_plane.axis = 'z'\n",
    "c_plane = mlab.pipeline.contour_grid_plane(src)\n",
    "c_plane.enable_contours = False\n",
    "iso = mlab.pipeline.iso_surface(src)\n",
    "\n",
    "mlab.savefig('structured_grid.png')\n",
    "Image('structured_grid.png')"
   ]
  },
  {
   "cell_type": "markdown",
   "metadata": {},
   "source": [
    "### PolyData\n"
   ]
  },
  {
   "cell_type": "code",
   "execution_count": null,
   "metadata": {},
   "outputs": [],
   "source": [
    "# The points in 3D.\n",
    "points = array([[0.,0,0], [1,0,0], [0,1,0], [0,0,1]])\n",
    "# Connectivity via indices to the points.\n",
    "triangles = array([[0,1,3], [0,3,2], [1,2,3], [0,2,1]])\n",
    "# Creating the data object.\n",
    "\n",
    "mesh = tvtk.PolyData()\n",
    "mesh.points = points # the points\n",
    "mesh.polys = triangles # triangles for connectivity.\n",
    "# For lines/verts: mesh.lines = lines; mesh.verts = verts\n",
    "# Now create some point data.\n",
    "temperature = array([10., 20. ,30., 40.], 'f')\n",
    "mesh.point_data.scalars = temperature\n",
    "mesh.point_data.scalars.name = 'temperature'\n",
    "# Some vectors.\n",
    "velocity = array([[0.,0.,0], [1.,0,0], [0.,1,0], [0.,0,1]])\n",
    "mesh.point_data.vectors = velocity\n",
    "mesh.point_data.vectors.name = 'velocity'"
   ]
  },
  {
   "cell_type": "markdown",
   "metadata": {},
   "source": [
    "### Visualizing it\n"
   ]
  },
  {
   "cell_type": "code",
   "execution_count": null,
   "metadata": {},
   "outputs": [],
   "source": [
    "mlab.clf()\n",
    "\n",
    "# Add the dataset to the pipeline\n",
    "src = mlab.pipeline.add_dataset(mesh)\n",
    "\n",
    "surf = mlab.pipeline.surface(src)\n",
    "vec = mlab.pipeline.vectors(src)\n",
    "\n",
    "mlab.savefig('polydata.png')\n",
    "Image('polydata.png')"
   ]
  },
  {
   "cell_type": "markdown",
   "metadata": {},
   "source": [
    "### Unstructured Grid\n"
   ]
  },
  {
   "cell_type": "code",
   "execution_count": null,
   "metadata": {},
   "outputs": [],
   "source": [
    "points = array([[0.,0.,0], [1.,0,0], [0.,1,0], [0.,0,1]])\n",
    "tets = array([[0, 1, 2, 3]])\n",
    "tet_type = tvtk.Tetra().cell_type # VTK_TETRA == 10\n",
    "#--------------------------------------------------\n",
    "ug = tvtk.UnstructuredGrid(points=points)\n",
    "# This sets up the cells.\n",
    "ug.set_cells(tet_type, tets)\n",
    "# Attribute data.\n",
    "temperature = array([10, 20 ,20, 30], 'f')\n",
    "ug.point_data.scalars = temperature\n",
    "ug.point_data.scalars.name = 'temperature'\n",
    "# Some vectors.\n",
    "velocity = array([[0.,0,0], [1,0,0], [0,1,0], [0,0,1]])\n",
    "ug.point_data.vectors = velocity\n",
    "ug.point_data.vectors.name = 'velocity'"
   ]
  },
  {
   "cell_type": "markdown",
   "metadata": {},
   "source": [
    "### Visualizing it\n"
   ]
  },
  {
   "cell_type": "code",
   "execution_count": null,
   "metadata": {},
   "outputs": [],
   "source": [
    "mlab.clf()\n",
    "\n",
    "# Add the dataset to the pipeline\n",
    "src = mlab.pipeline.add_dataset(ug)\n",
    "\n",
    "surf = mlab.pipeline.surface(src)\n",
    "vec = mlab.pipeline.vectors(src)\n",
    "\n",
    "mlab.savefig('ug.png')\n",
    "Image('ug.png')"
   ]
  },
  {
   "cell_type": "markdown",
   "metadata": {
    "collapsed": true
   },
   "source": [
    "### Writing the data out\n"
   ]
  },
  {
   "cell_type": "code",
   "execution_count": null,
   "metadata": {},
   "outputs": [],
   "source": [
    "from tvtk.api import write_data\n",
    "write_data(ug, ’ug’)\n",
    "write_data(mesh, ’mesh’)"
   ]
  },
  {
   "cell_type": "code",
   "execution_count": null,
   "metadata": {
    "collapsed": true
   },
   "outputs": [],
   "source": []
  }
 ],
 "metadata": {
  "kernelspec": {
   "display_name": "Python 3",
   "language": "python",
   "name": "python3"
  },
  "language_info": {
   "codemirror_mode": {
    "name": "ipython",
    "version": 3
   },
   "file_extension": ".py",
   "mimetype": "text/x-python",
   "name": "python",
   "nbconvert_exporter": "python",
   "pygments_lexer": "ipython3",
   "version": "3.6.0"
  }
 },
 "nbformat": 4,
 "nbformat_minor": 1
}
