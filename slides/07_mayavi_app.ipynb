{
 "cells": [
  {
   "cell_type": "markdown",
   "metadata": {
    "slideshow": {
     "slide_type": "slide"
    }
   },
   "source": [
    "# The `mayavi2` application\n",
    "\n",
    "**Prabhu Ramachandran**\n",
    "\n",
    "**Department of Aerospace Engineering, IIT Bombay**\n",
    "<br/>\n",
    "\n",
    "**NGCM Summer School,**\n",
    "**Southampton, June 2018**\n"
   ]
  },
  {
   "cell_type": "markdown",
   "metadata": {
    "slideshow": {
     "slide_type": "slide"
    }
   },
   "source": [
    "## Outline\n",
    "\n",
    "- Overview\n",
    "- UI features\n",
    "- Command line arguments\n",
    "- `mlab` integration\n",
    "- Sources/Modules/Filter outline\n"
   ]
  },
  {
   "cell_type": "markdown",
   "metadata": {
    "slideshow": {
     "slide_type": "slide"
    }
   },
   "source": [
    "## Introduction\n",
    "\n",
    "* Visualization without scripting\n",
    "\n",
    "* Especially useful with data files\n",
    "\n",
    "* Can be scripted\n",
    "\n",
    "* Supports `mlab`\n"
   ]
  },
  {
   "cell_type": "markdown",
   "metadata": {
    "slideshow": {
     "slide_type": "slide"
    }
   },
   "source": [
    "<img height=\"100%\" src=\"MEDIA/m2/m2_app3_3.png\"/>\n"
   ]
  },
  {
   "cell_type": "markdown",
   "metadata": {
    "slideshow": {
     "slide_type": "slide"
    }
   },
   "source": [
    "## Features\n",
    "\n",
    "* Complete UI\n",
    "* Powerful command line options\n",
    "* Embedded Python\n",
    "* Fully scriptable\n",
    "* Reads different file formats\n",
    "* Drag-drop onto shell\n",
    "* Script recording\n",
    "* Extensible\n",
    "* Plug-in design using Envisage\n"
   ]
  },
  {
   "cell_type": "markdown",
   "metadata": {
    "slideshow": {
     "slide_type": "slide"
    }
   },
   "source": [
    "## UI features\n"
   ]
  },
  {
   "cell_type": "markdown",
   "metadata": {
    "slideshow": {
     "slide_type": "slide"
    }
   },
   "source": [
    "## Demo of UI features\n",
    "\n",
    "* Basic UI\n",
    "\n",
    "* Python shell integration\n",
    "\n",
    "* Time-series support\n",
    "\n",
    "* Script recording\n"
   ]
  },
  {
   "cell_type": "markdown",
   "metadata": {
    "slideshow": {
     "slide_type": "slide"
    }
   },
   "source": [
    "## Command line arguments\n",
    "### Overview\n"
   ]
  },
  {
   "cell_type": "code",
   "execution_count": null,
   "metadata": {},
   "outputs": [],
   "source": [
    "!mayavi2 -h"
   ]
  },
  {
   "cell_type": "markdown",
   "metadata": {},
   "source": [
    "* `-d datafile.ext` : Load data file\n",
    "\n",
    "* `-f FilterName` : Load filter\n",
    "\n",
    "* `-m ModuleName` : Load module\n",
    "\n",
    "* `-s python-string` : Evaluate Python expression\n",
    "\n",
    "* `-x file.py` : Execute Python code\n"
   ]
  },
  {
   "cell_type": "markdown",
   "metadata": {
    "slideshow": {
     "slide_type": "slide"
    }
   },
   "source": [
    "## Advanced options\n",
    "\n",
    "* `-n` : new scene\n",
    "\n",
    "* `-M` : new module manager\n",
    "\n",
    "* `-o` : offscreen mode\n",
    "\n",
    "* `-z filename` : load saved visualization\n"
   ]
  },
  {
   "cell_type": "markdown",
   "metadata": {
    "slideshow": {
     "slide_type": "slide"
    }
   },
   "source": [
    "## Simple example\n"
   ]
  },
  {
   "cell_type": "code",
   "execution_count": 2,
   "metadata": {},
   "outputs": [
    {
     "name": "stdout",
     "output_type": "stream",
     "text": [
      "/Users/prabhu/src/git/mayavi-workshop/slides/data\n"
     ]
    }
   ],
   "source": [
    "%cd data"
   ]
  },
  {
   "cell_type": "code",
   "execution_count": null,
   "metadata": {},
   "outputs": [],
   "source": [
    "!mayavi2 -d room_vis.wrl -d fire_ug.vtu -m Outline  -m ScalarCutPlane"
   ]
  },
  {
   "cell_type": "markdown",
   "metadata": {
    "slideshow": {
     "slide_type": "slide"
    }
   },
   "source": [
    "## Scripting from the command line\n",
    "\n",
    "* `-s python-code`  is very powerful\n",
    "\n",
    "* Takes Python expressions\n",
    "\n",
    "* Applies to the last module/filter\n",
    "\n",
    "* Can be called multiple times\n"
   ]
  },
  {
   "cell_type": "markdown",
   "metadata": {
    "slideshow": {
     "slide_type": "slide"
    }
   },
   "source": [
    "## An example\n"
   ]
  },
  {
   "cell_type": "code",
   "execution_count": 5,
   "metadata": {},
   "outputs": [
    {
     "name": "stdout",
     "output_type": "stream",
     "text": [
      "Traceback (most recent call last):\r\n",
      "  File \"/Users/prabhu/src/git/ETS/pyface/build/lib/pyface/ui/qt4/workbench/split_tab_widget.py\", line 304, in _focus_changed\r\n",
      "    self.focus_changed.emit(old, new)\r\n",
      "TypeError: SplitTabWidget.focus_changed[QWidget, QWidget].emit(): argument 1 has unexpected type 'QObject'\r\n"
     ]
    }
   ],
   "source": [
    "!mayavi2 -d fire_ug.vtu -m Outline -s \"actor.property.color = (1,0,0)\" \\\n",
    " -s \"scene.save('test.png', size=(800, 800))\""
   ]
  },
  {
   "cell_type": "markdown",
   "metadata": {
    "slideshow": {
     "slide_type": "slide"
    }
   },
   "source": [
    "## Bit more complex\n"
   ]
  },
  {
   "cell_type": "code",
   "execution_count": null,
   "metadata": {},
   "outputs": [],
   "source": [
    "!mayavi2 -d room_vis.wrl -d fire_ug.vtu \\\n",
    " -m Outline  -m ScalarCutPlane \\\n",
    "-s \"enable_contours = True\" \\\n",
    "-s \"implicit_plane.widget.normal_to_z_axis=1\""
   ]
  },
  {
   "cell_type": "markdown",
   "metadata": {
    "slideshow": {
     "slide_type": "slide"
    }
   },
   "source": [
    "## Exercise\n",
    "\n",
    "* Visualize the `fire_ug.vtu`  dataset along with the\n",
    "  `room_vis.wrl`  file\n",
    "\n",
    "* Use one scalar cut plane with its normal along the y axis\n",
    "\n",
    "* Add an iso-contour with the temperature set to 400.\n",
    "\n",
    "* Do all these from the command line\n",
    "\n",
    "* Hint: use the embedded Python shell in the app\n",
    "\n",
    "* Hint: use script recording\n"
   ]
  },
  {
   "cell_type": "markdown",
   "metadata": {
    "slideshow": {
     "slide_type": "slide"
    }
   },
   "source": [
    "## Solution\n"
   ]
  },
  {
   "cell_type": "code",
   "execution_count": null,
   "metadata": {},
   "outputs": [],
   "source": [
    "!mayavi2 -d room_vis.wrl -d fire_ug.vtu \\\n",
    " -m Outline  -m ScalarCutPlane \\\n",
    "-s \"enable_contours = True\" \\\n",
    "-s \"implicit_plane.widget.normal_to_y_axis=1\" \\\n",
    "-m IsoSurface \\\n",
    "-s \"contour.contours=[400]\""
   ]
  },
  {
   "cell_type": "markdown",
   "metadata": {
    "slideshow": {
     "slide_type": "slide"
    }
   },
   "source": [
    "## `mlab` integration\n"
   ]
  },
  {
   "cell_type": "markdown",
   "metadata": {
    "slideshow": {
     "slide_type": "slide"
    }
   },
   "source": [
    "## Using `mlab`\n",
    "\n",
    "* Can import and use mlab\n",
    "\n",
    "* Opening data: `mlab.pipeline.open`\n",
    "* Add dataset: `mlab.pipeline.add_dataset`\n",
    "* Use `lower_case_with_underscores`\n",
    "* So `ScalarCutPlane`  $\\rightarrow$ `mlab.pipeline.scalar_cut_plane`\n"
   ]
  },
  {
   "cell_type": "markdown",
   "metadata": {
    "slideshow": {
     "slide_type": "slide"
    }
   },
   "source": [
    "## Sources/Modules/Filter outline\n"
   ]
  },
  {
   "cell_type": "markdown",
   "metadata": {
    "slideshow": {
     "slide_type": "slide"
    }
   },
   "source": [
    "## Overview\n",
    "\n",
    "* Source: produce data\n",
    "\n",
    "* Filter: filters the data producing more data\n",
    "\n",
    "* Module: visualizes the data\n"
   ]
  },
  {
   "cell_type": "markdown",
   "metadata": {
    "slideshow": {
     "slide_type": "slide"
    }
   },
   "source": [
    "## Sources\n",
    "\n",
    "* Open supported file: *.vtk, *.xml, *.vt,\n",
    "    *.pvt), VRML2 (*.wrl), 3D Studio (*.3ds), PLOT3D\n",
    "    (*.xyz), STL, BYU, RAW, PLY,  PDB,  SLC,  FACET,  OBJ,  AVSUCD\n",
    "    (*.inp),  GAMBIT (*.neu),  Exodus  (*.exii),  PNG,  JPEG,  BMP,\n",
    "    PNM, DCM, DEM, MHA, MHD, MINC, XIMG, TIFF,\n",
    "\n",
    "* `ParametricSurface`\n",
    "* `PointLoad`\n",
    "* `BuiltinImage`\n",
    "* `BuiltinSurface`\n"
   ]
  },
  {
   "cell_type": "markdown",
   "metadata": {
    "slideshow": {
     "slide_type": "slide"
    }
   },
   "source": [
    "## Simple Annotation Modules\n",
    "\n",
    "* Axes\n",
    "\n",
    "* Outline\n",
    "\n",
    "* OrientationAxes\n",
    "\n",
    "* Text, Text3D\n",
    "\n",
    "* Labels\n"
   ]
  },
  {
   "cell_type": "markdown",
   "metadata": {
    "slideshow": {
     "slide_type": "slide"
    }
   },
   "source": [
    "## Common Scalar Modules\n",
    "\n",
    "* Surface\n",
    "\n",
    "* IsoSurface\n",
    "\n",
    "* Glyph\n",
    "\n",
    "* ScalarCutPlane\n"
   ]
  },
  {
   "cell_type": "markdown",
   "metadata": {
    "slideshow": {
     "slide_type": "slide"
    }
   },
   "source": [
    "## Vector visualization Modules\n",
    "\n",
    "* VectorCutplane\n",
    "\n",
    "* Vectors\n",
    "\n",
    "* WarpVectorCutPlane\n",
    "\n",
    "* Streamline\n"
   ]
  },
  {
   "cell_type": "markdown",
   "metadata": {
    "slideshow": {
     "slide_type": "slide"
    }
   },
   "source": [
    "## Demonstration\n",
    "\n",
    "* Load the `fire_ug.vtu`  file\n",
    "\n",
    "* Demo of the common modules\n",
    "\n",
    "* Demo SliceUG\n"
   ]
  },
  {
   "cell_type": "markdown",
   "metadata": {
    "slideshow": {
     "slide_type": "slide"
    }
   },
   "source": [
    "## Data-specific modules\n",
    "\n",
    "* GridPlane\n",
    "\n",
    "* ContourGridPlane\n",
    "\n",
    "* CustomGridPlane\n",
    "\n",
    "* StructuredGridOutline\n",
    "\n",
    "* SliceUnstructuredGrid\n",
    "\n",
    "* ImagePlaneWidget\n",
    "\n",
    "* ImageActor\n"
   ]
  },
  {
   "cell_type": "markdown",
   "metadata": {
    "slideshow": {
     "slide_type": "slide"
    }
   },
   "source": [
    "## Demonstration\n",
    "\n",
    "* Load the `heart.vti`  file\n",
    "\n",
    "* Demo of the structured grid modules\n"
   ]
  },
  {
   "cell_type": "markdown",
   "metadata": {
    "slideshow": {
     "slide_type": "slide"
    }
   },
   "source": [
    "## Exercise\n",
    "\n",
    "* Load a cube of numpy data\n"
   ]
  },
  {
   "cell_type": "code",
   "execution_count": null,
   "metadata": {},
   "outputs": [],
   "source": [
    "import numpy as np\n",
    "sl = slice(-5, 5, 64j)\n",
    "x, y, z = np.mgrid[sl,sl,sl]\n",
    "scalar = np.sin(np.sqrt(x*x*0.5 + y*y + z*z*2))"
   ]
  },
  {
   "cell_type": "markdown",
   "metadata": {},
   "source": [
    "* Visualize the data from the UI\n",
    "\n",
    "* Use the image plane widget\n"
   ]
  },
  {
   "cell_type": "markdown",
   "metadata": {
    "slideshow": {
     "slide_type": "slide"
    }
   },
   "source": [
    "## Solution\n",
    "\n",
    "Hint: use mlab\n"
   ]
  },
  {
   "cell_type": "code",
   "execution_count": null,
   "metadata": {},
   "outputs": [],
   "source": [
    "%gui qt"
   ]
  },
  {
   "cell_type": "code",
   "execution_count": null,
   "metadata": {},
   "outputs": [],
   "source": [
    "from mayavi import mlab\n",
    "src = mlab.pipeline.scalar_field(\n",
    "    x, y, z, scalar\n",
    ")\n",
    "mlab.pipeline.image_plane_widget(src)"
   ]
  },
  {
   "cell_type": "markdown",
   "metadata": {
    "slideshow": {
     "slide_type": "slide"
    }
   },
   "source": [
    "## Advanced modules\n",
    "\n",
    "* TensorGlyph\n",
    "\n",
    "* HyperStreamline\n",
    "\n",
    "* Volume: for volume rendering\n"
   ]
  },
  {
   "cell_type": "markdown",
   "metadata": {
    "slideshow": {
     "slide_type": "slide"
    }
   },
   "source": [
    "## Filters\n",
    "\n",
    "* Not always needed\n",
    "\n",
    "* Branch the pipeline\n",
    "\n",
    "* Very powerful\n",
    "\n",
    "* Use modules to visualize filtered results\n"
   ]
  },
  {
   "cell_type": "markdown",
   "metadata": {
    "slideshow": {
     "slide_type": "slide"
    }
   },
   "source": [
    "## Filters\n",
    "\n",
    "* CellDerivatives: Computes derivatives from input point scalar and vector\n",
    "  data, produces cell data on the gradients. Used to calcuate the\n",
    "  vorticity approximately.\n"
   ]
  },
  {
   "cell_type": "markdown",
   "metadata": {
    "slideshow": {
     "slide_type": "fragment"
    }
   },
   "source": [
    "\n",
    "* CellToPointData: Transforms cell attribute data to point data by\n",
    "  averaging the cell data from the cells at the point.\n"
   ]
  },
  {
   "cell_type": "markdown",
   "metadata": {
    "slideshow": {
     "slide_type": "slide"
    }
   },
   "source": [
    "## Filters\n",
    "\n",
    "* Contour: generate iso-surfaces on any input dataset.\n",
    "* CutPlane: slice through any dataset.  Provides a 3D widget interface\n",
    "  to position and move the slice interactively.\n"
   ]
  },
  {
   "cell_type": "markdown",
   "metadata": {
    "slideshow": {
     "slide_type": "slide"
    }
   },
   "source": [
    "## Filters\n",
    "\n",
    "* DataSetClipper: Clips input data using a 3D widget.\n",
    "\n",
    "* DecimatePro:  Reduces number of triangles in mesh.\n",
    "\n",
    "* Delaunay2D: 2D Delaunay triangulation.\n",
    "\n",
    "* Delaunay3D: 3D Delaunay triangulation.\n",
    "\n",
    "* ElevationFilter:  Generate scalar data from the elevation in a given\n",
    "  direction.\n",
    "\n",
    "* ExtractEdges: Turns edges into lines.\n"
   ]
  },
  {
   "cell_type": "markdown",
   "metadata": {
    "slideshow": {
     "slide_type": "slide"
    }
   },
   "source": [
    "## Filters\n",
    "\n",
    "* ExtractGrid: select a portion of, or subsample an input dataset with\n",
    "  implicit topology.\n",
    "\n",
    "* ExtractTensorComponents: extract components from a tensor field.\n",
    "\n",
    "* ExtractUnstructuredGrid: select a part of an unstructured grid.\n"
   ]
  },
  {
   "cell_type": "markdown",
   "metadata": {
    "slideshow": {
     "slide_type": "slide"
    }
   },
   "source": [
    "## Filters\n",
    "\n",
    "* ExtractVectorComponents: select any of the three components of an\n",
    "  input vector data attribute.\n",
    "\n",
    "* ExtractVectorNorm: Computes the norm (Eucliedean) of the input vector\n",
    "  data (with optional scaling between ).\n"
   ]
  },
  {
   "cell_type": "markdown",
   "metadata": {
    "slideshow": {
     "slide_type": "slide"
    }
   },
   "source": [
    "## Filters\n",
    "\n",
    "* GaussianSplatter: Splat input point data onto a grid.\n",
    "\n",
    "* GreedyTerrainDecimation: triangulation of image data after simplifying\n",
    "  it.\n",
    "\n",
    "* ImageChangeInformation: change the spacing and origin of an input\n",
    "  ImageData dataset.\n",
    "\n",
    "* ImageDataProbe: probe any dataset using a Structured Points dataset.\n",
    "  Also allows to convert the scalar data to an unsigned short\n",
    "  to facilitate volume visualization.\n"
   ]
  },
  {
   "cell_type": "markdown",
   "metadata": {
    "slideshow": {
     "slide_type": "slide"
    }
   },
   "source": [
    "## Filters\n",
    "\n",
    "* MaskPoints: Selectively passes the input points downstream.  This can be\n",
    "    used to subsample the input points.  *Only passes through points.*\n"
   ]
  },
  {
   "cell_type": "markdown",
   "metadata": {
    "slideshow": {
     "slide_type": "fragment"
    }
   },
   "source": [
    "\n",
    "* PointToCellData: Convert point to cell data.\n",
    "\n",
    "* PolyDataNormals: Computes normals from input data.  Gives meshes a\n",
    "  smoother appearance.\n"
   ]
  },
  {
   "cell_type": "markdown",
   "metadata": {
    "slideshow": {
     "slide_type": "slide"
    }
   },
   "source": [
    "## Filters\n",
    "\n",
    "* QuadricDecimation:  Simplifies triangles of a mesh.\n",
    "\n",
    "* SelectOutput: Select one among several of the outputs of a given\n",
    "  input. Useful for a multi-block data source.\n"
   ]
  },
  {
   "cell_type": "markdown",
   "metadata": {
    "slideshow": {
     "slide_type": "slide"
    }
   },
   "source": [
    "## Filters\n",
    "\n",
    "* SetActiveAttribute: set the active data attribute (scalars, vectors\n",
    "    and tensors) on a VTK dataset.  Useful to compute contours of one scalar\n",
    "    on the contour of another scalar.\n"
   ]
  },
  {
   "cell_type": "markdown",
   "metadata": {
    "slideshow": {
     "slide_type": "fragment"
    }
   },
   "source": [
    "\n",
    "* Stripper: Create triangle strips and/or poly-lines. Useful for\n",
    "    regularizing broken up surfaces, such as those created by the Tube filter.\n"
   ]
  },
  {
   "cell_type": "markdown",
   "metadata": {
    "slideshow": {
     "slide_type": "slide"
    }
   },
   "source": [
    "## Filters\n",
    "\n",
    "* Threshold: Threshold input points on scalar value.\n",
    "\n",
    "* TransformData: linear transformation to input data using a\n",
    "  tvtk.BoxWidget.  This does not work with\n",
    "  ImageData/StructuredPoints/RectilinearGrid.\n"
   ]
  },
  {
   "cell_type": "markdown",
   "metadata": {
    "slideshow": {
     "slide_type": "slide"
    }
   },
   "source": [
    "## Filters\n",
    "\n",
    "* TriangleFilter: Converts input polygons and triangle strips to\n",
    "  triangles.  This is useful when you have a downstream filter that only\n",
    "  processes triangles.\n"
   ]
  },
  {
   "cell_type": "markdown",
   "metadata": {
    "slideshow": {
     "slide_type": "fragment"
    }
   },
   "source": [
    "\n",
    "* Tube: Turns lines into tubes.\n",
    "\n",
    "* UserDefined: This filter lets the user define their own filter\n",
    "  dynamically/interactively from VTK filters.\n",
    "\n",
    "* Vorticity: This filter computes the vorticity of an input vector\n",
    "  field.\n"
   ]
  },
  {
   "cell_type": "markdown",
   "metadata": {
    "slideshow": {
     "slide_type": "slide"
    }
   },
   "source": [
    "## Filters\n",
    "\n",
    "* WarpScalar: Warps the input data along a particular direction (either\n",
    "  the normals or a specified direction) with a scale specified by the local\n",
    "  scalar value.  Useful for making carpet plots.\n"
   ]
  },
  {
   "cell_type": "markdown",
   "metadata": {
    "slideshow": {
     "slide_type": "fragment"
    }
   },
   "source": [
    "\n",
    "* WarpVector Warps the input data along a the point vector attribute\n",
    "  scaled as per a scale factor.  Useful for showing flow profiles or\n",
    "  displacements.\n"
   ]
  },
  {
   "cell_type": "markdown",
   "metadata": {
    "slideshow": {
     "slide_type": "slide"
    }
   },
   "source": [
    "## Exercise\n",
    "\n",
    "Use each of the sources, ParametricSurface, BuiltinSurface,\n",
    "BuiltinImage, PointLoad and visualize them.\n",
    "\n",
    "Use the command line interface and the UI.\n"
   ]
  },
  {
   "cell_type": "markdown",
   "metadata": {
    "slideshow": {
     "slide_type": "slide"
    }
   },
   "source": [
    "## Demo\n",
    "\n",
    "Consider a collection of points sampled from a volume, how do we find\n",
    "contours for this data?\n"
   ]
  },
  {
   "cell_type": "code",
   "execution_count": null,
   "metadata": {},
   "outputs": [],
   "source": [
    "# Some random data.\n",
    "import numpy as np\n",
    "x, y = np.random.random((2, 100))\n",
    "s = x*x + y*y\n",
    "z = np.ones_like(x)"
   ]
  },
  {
   "cell_type": "markdown",
   "metadata": {
    "slideshow": {
     "slide_type": "slide"
    }
   },
   "source": [
    "## Demo: solution\n"
   ]
  },
  {
   "cell_type": "code",
   "execution_count": null,
   "metadata": {},
   "outputs": [],
   "source": [
    "# Load up the data\n",
    "src = mlab.pipeline.scalar_scatter(x, y, z, s)"
   ]
  },
  {
   "cell_type": "code",
   "execution_count": null,
   "metadata": {
    "slideshow": {
     "slide_type": "fragment"
    }
   },
   "outputs": [],
   "source": [
    "mlab.clf()\n",
    "src = mlab.pipeline.add_dataset(mesh)"
   ]
  },
  {
   "cell_type": "markdown",
   "metadata": {
    "slideshow": {
     "slide_type": "slide"
    }
   },
   "source": [
    "## Demo: solution\n"
   ]
  },
  {
   "cell_type": "code",
   "execution_count": null,
   "metadata": {},
   "outputs": [],
   "source": [
    "ug = mlab.pipeline.delaunay2d(src)\n",
    "surf = mlab.pipeline.surface(ug)\n",
    "surf.actor.property.edge_visibility = True"
   ]
  },
  {
   "cell_type": "markdown",
   "metadata": {
    "slideshow": {
     "slide_type": "slide"
    }
   },
   "source": [
    "## Exercise\n",
    "Do the same thing but now in 3D and plot contours.\n",
    "\n",
    "Hint: Use the Delaunay3D filter.\n"
   ]
  }
 ],
 "metadata": {
  "celltoolbar": "Slideshow",
  "kernelspec": {
   "display_name": "Python 3",
   "language": "python",
   "name": "python3"
  },
  "language_info": {
   "codemirror_mode": {
    "name": "ipython",
    "version": 3
   },
   "file_extension": ".py",
   "mimetype": "text/x-python",
   "name": "python",
   "nbconvert_exporter": "python",
   "pygments_lexer": "ipython3",
   "version": "3.6.0"
  },
  "livereveal": {
   "controls": true,
   "help": true,
   "scroll": true,
   "slideNumber": true,
   "transition": "none"
  }
 },
 "nbformat": 4,
 "nbformat_minor": 2
}
